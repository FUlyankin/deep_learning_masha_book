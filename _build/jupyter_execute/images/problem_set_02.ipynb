{
 "cells": [
  {
   "cell_type": "code",
   "execution_count": 1,
   "id": "730509b7",
   "metadata": {},
   "outputs": [],
   "source": [
    "import os\n",
    "import glob\n",
    "# import imageio\n",
    "\n",
    "import numpy as np \n",
    "import pandas as pd\n",
    "\n",
    "import matplotlib.pyplot as plt\n",
    "from scipy import stats as sts\n",
    "from scipy import stats\n",
    "# plt.style.use('ggplot')   # Правильный стиль графиков   \n",
    "plt.style.use('seaborn-whitegrid')\n",
    "\n",
    "import seaborn as sns\n",
    "sns.set_palette(['#00A99D', '#F5CA0C', '#B6129F', '#76620C', '#095C57'])\n",
    "\n",
    "deep_grey = '#3B4856' # основной тёмный / холодный цвет\n",
    "sky_blue = '#348FEA'\n",
    "marine_green = '#4CB9C0'\n",
    "grass_green = '#97C804'\n",
    "medium_yellow = '#FFC100' # основной светлый / тёплый цвет\n",
    "sicilian_orange = '#E06A27'\n",
    "fuchsia_pink = '#C81D6B'\n",
    "saturated_violet = '#5002A7'\n",
    "navy_blue = '#292183'\n",
    "cool_white = '#F5FBFF'\n",
    "\n",
    "# from matplotlib import rc\n",
    "# rc('text', usetex=True)\n",
    "\n",
    "%matplotlib inline"
   ]
  },
  {
   "cell_type": "code",
   "execution_count": 2,
   "id": "6e53af5a",
   "metadata": {},
   "outputs": [],
   "source": [
    "def mse(w):\n",
    "    return 0.5*((2 - w)**2 + (3 - 2*w)**2)\n",
    "\n",
    "def mse_grad(x, y, w):\n",
    "    return -2 * x * (y - w * x)\n",
    "\n",
    "grad_full = lambda w: mse_grad(1, 2, w) + mse_grad(2,3,w)\n",
    "\n",
    "def line(w, w0):\n",
    "    return grad_full(w)*(w - w0) + mse(w0)\n",
    "\n",
    "w = np.linspace(-0.2, 3.4, 1000)"
   ]
  },
  {
   "cell_type": "code",
   "execution_count": 3,
   "id": "9f28c7de",
   "metadata": {},
   "outputs": [
    {
     "data": {
      "image/png": "[encoded data removed]",
      "text/plain": [
       "<Figure size 432x288 with 1 Axes>"
      ]
     },
     "metadata": {
      "filenames": {
       "image/png": "/Users/randomwalk/Desktop/Dev/deep_learning_masha_book/_build/jupyter_execute/images/problem_set_02_2_0.png"
      },
      "needs_background": "light"
     },
     "output_type": "display_data"
    }
   ],
   "source": [
    "x_dots = np.array([1.6])\n",
    "y_dots = mse(x_dots)\n",
    "\n",
    "plt.plot(w, mse(w), lw=2, color='black'); \n",
    "\n",
    "plt.scatter(x_dots, y_dots, color=fuchsia_pink, lw=6)\n",
    "\n",
    "# w_dots = np.array([0, 0.8, 1.2, 1.4])\n",
    "w_dots = np.array([0, 0.4, 1.28, 1.424, 1.4848])\n",
    "\n",
    "plt.scatter(w_dots, mse(w_dots), color=sky_blue, lw=3)\n",
    "# for ww in w_dots:\n",
    "#     plt.vlines(x = ww, ymin = 0, ymax = mse(ww), linestyle='--', lw=2, color=sky_blue)\n",
    "\n",
    "plt.xlabel('$w$', fontsize=16, color='black')\n",
    "plt.ylabel(r'$MSE(w)$', fontsize=16, color='black')\n",
    "plt.tick_params(axis = 'both', which = 'major', labelsize = 14)"
   ]
  },
  {
   "cell_type": "code",
   "execution_count": null,
   "id": "fb087a90",
   "metadata": {},
   "outputs": [],
   "source": [
    "\n"
   ]
  },
  {
   "cell_type": "code",
   "execution_count": 4,
   "id": "6e218cd2",
   "metadata": {},
   "outputs": [
    {
     "name": "stdout",
     "output_type": "stream",
     "text": [
      "1 3\n",
      "2 7\n",
      "3 15\n",
      "4 31\n",
      "5 63\n",
      "6 127\n",
      "7 255\n",
      "8 511\n",
      "9 1023\n"
     ]
    }
   ],
   "source": [
    "for n in range(1,10):\n",
    "    print(n, 2**(n + 1) - 1)"
   ]
  },
  {
   "cell_type": "code",
   "execution_count": null,
   "id": "68058b05",
   "metadata": {},
   "outputs": [],
   "source": []
  },
  {
   "cell_type": "code",
   "execution_count": null,
   "id": "f2701fc5",
   "metadata": {},
   "outputs": [],
   "source": []
  }
 ],
 "metadata": {
  "kernelspec": {
   "display_name": "Python 3 (ipykernel)",
   "language": "python",
   "name": "python3"
  },
  "language_info": {
   "codemirror_mode": {
    "name": "ipython",
    "version": 3
   },
   "file_extension": ".py",
   "mimetype": "text/x-python",
   "name": "python",
   "nbconvert_exporter": "python",
   "pygments_lexer": "ipython3",
   "version": "3.9.13"
  }
 },
 "nbformat": 4,
 "nbformat_minor": 5
}